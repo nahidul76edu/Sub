{
  "nbformat": 4,
  "nbformat_minor": 0,
  "metadata": {
    "colab": {
      "provenance": [],
      "collapsed_sections": []
    },
    "kernelspec": {
      "name": "python3",
      "display_name": "Python 3"
    },
    "language_info": {
      "name": "python"
    }
  },
  "cells": [
    {
      "cell_type": "code",
      "execution_count": null,
      "metadata": {
        "id": "xFF9txGIOhZV"
      },
      "outputs": [],
      "source": [
        "# import module sys to get the type of exception\n",
        "import sys\n",
        "\n",
        "randomList = ['a', 0, 2]\n",
        "\n",
        "def again():\n",
        "  try:\n",
        "    print(\"The entry is\", 'a')\n",
        "    r = 1/int('a')\n",
        "    \n",
        "  except:\n",
        "    #print(\"Oops!\", sys.exc_info()[0], \"occurred.\")\n",
        "    print(\"Next entry.\")\n",
        "    print()\n",
        "    again()\n",
        "\n",
        "again()"
      ]
    },
    {
      "cell_type": "code",
      "source": [
        "# import module sys to get the type of exception\n",
        "import sys\n",
        "\n",
        "randomList = ['a', 0, 2]\n",
        "\n",
        "while(1):\n",
        "  try:\n",
        "    print(\"The entry is\", 2)\n",
        "    r = 1/int(2)\n",
        "    break\n",
        "\n",
        "  except:\n",
        "    #print(\"Oops!\", sys.exc_info()[0], \"occurred.\")\n",
        "    print(\"Next entry.\")\n",
        "    print()\n",
        "    "
      ],
      "metadata": {
        "colab": {
          "base_uri": "https://localhost:8080/"
        },
        "id": "gaWVVGikQ8Ra",
        "outputId": "77ecad06-80f2-49b2-c741-69176b3e4f72"
      },
      "execution_count": null,
      "outputs": [
        {
          "output_type": "stream",
          "name": "stdout",
          "text": [
            "The entry is 2\n"
          ]
        }
      ]
    },
    {
      "cell_type": "code",
      "source": [
        "# import module sys to get the type of exception\n",
        "import sys\n",
        "\n",
        "randomList = ['a', 0, 2]\n",
        "\n",
        "for i in range(10):\n",
        "  try:\n",
        "    print(\"The entry is\", 2)\n",
        "    r = 1/int(2)\n",
        "    break\n",
        "\n",
        "  except:\n",
        "    #print(\"Oops!\", sys.exc_info()[0], \"occurred.\")\n",
        "    print(\"Next entry.\")\n",
        "    print()\n",
        "    "
      ],
      "metadata": {
        "colab": {
          "base_uri": "https://localhost:8080/"
        },
        "id": "LFxcNw7VRbwg",
        "outputId": "314ebdb7-dc58-4ec6-a701-74bc5fcbd270"
      },
      "execution_count": null,
      "outputs": [
        {
          "output_type": "stream",
          "name": "stdout",
          "text": [
            "The entry is 2\n"
          ]
        }
      ]
    }
  ]
}